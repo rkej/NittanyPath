{
 "cells": [
  {
   "cell_type": "code",
   "execution_count": 2,
   "metadata": {},
   "outputs": [],
   "source": [
    "import pandas as pd\n",
    "import bcrypt\n"
   ]
  },
  {
   "cell_type": "code",
   "execution_count": 3,
   "metadata": {},
   "outputs": [
    {
     "data": {
      "text/html": [
       "<div>\n",
       "<style scoped>\n",
       "    .dataframe tbody tr th:only-of-type {\n",
       "        vertical-align: middle;\n",
       "    }\n",
       "\n",
       "    .dataframe tbody tr th {\n",
       "        vertical-align: top;\n",
       "    }\n",
       "\n",
       "    .dataframe thead th {\n",
       "        text-align: right;\n",
       "    }\n",
       "</style>\n",
       "<table border=\"1\" class=\"dataframe\">\n",
       "  <thead>\n",
       "    <tr style=\"text-align: right;\">\n",
       "      <th></th>\n",
       "      <th>Full Name</th>\n",
       "      <th>Email</th>\n",
       "      <th>Age</th>\n",
       "      <th>Zip</th>\n",
       "      <th>Phone</th>\n",
       "      <th>Gender</th>\n",
       "      <th>City</th>\n",
       "      <th>State</th>\n",
       "      <th>Password</th>\n",
       "      <th>Street</th>\n",
       "      <th>...</th>\n",
       "      <th>Course 3 Details</th>\n",
       "      <th>Course 3 Section</th>\n",
       "      <th>Course 3 Section Limit</th>\n",
       "      <th>Course 3 HW_No</th>\n",
       "      <th>Course 3 HW_Details</th>\n",
       "      <th>Course 3 HW_Grade</th>\n",
       "      <th>Course 3 EXAM_No</th>\n",
       "      <th>Course 3 Exam_Details</th>\n",
       "      <th>Course 3 EXAM_Grade</th>\n",
       "      <th>Teaching Team ID</th>\n",
       "    </tr>\n",
       "  </thead>\n",
       "  <tbody>\n",
       "    <tr>\n",
       "      <td>0</td>\n",
       "      <td>Alisa Lynch</td>\n",
       "      <td>ally47@nittany.edu</td>\n",
       "      <td>19</td>\n",
       "      <td>62901</td>\n",
       "      <td>1507045398</td>\n",
       "      <td>F</td>\n",
       "      <td>Carbondale</td>\n",
       "      <td>Illinois</td>\n",
       "      <td>ixg1libp</td>\n",
       "      <td>78 South Brewery Ave.</td>\n",
       "      <td>...</td>\n",
       "      <td>3 Credit Course.</td>\n",
       "      <td>2.0</td>\n",
       "      <td>60</td>\n",
       "      <td>1.0</td>\n",
       "      <td>Turn in this homework online!</td>\n",
       "      <td>90.0</td>\n",
       "      <td>NaN</td>\n",
       "      <td>NaN</td>\n",
       "      <td>NaN</td>\n",
       "      <td>NaN</td>\n",
       "    </tr>\n",
       "  </tbody>\n",
       "</table>\n",
       "<p>1 rows × 45 columns</p>\n",
       "</div>"
      ],
      "text/plain": [
       "     Full Name               Email  Age    Zip       Phone Gender        City  \\\n",
       "0  Alisa Lynch  ally47@nittany.edu   19  62901  1507045398      F  Carbondale   \n",
       "\n",
       "      State  Password                  Street  ...  Course 3 Details  \\\n",
       "0  Illinois  ixg1libp  78 South Brewery Ave.   ...  3 Credit Course.   \n",
       "\n",
       "  Course 3 Section Course 3 Section Limit Course 3 HW_No  \\\n",
       "0              2.0                     60            1.0   \n",
       "\n",
       "             Course 3 HW_Details  Course 3 HW_Grade  Course 3 EXAM_No  \\\n",
       "0  Turn in this homework online!               90.0               NaN   \n",
       "\n",
       "  Course 3 Exam_Details  Course 3 EXAM_Grade  Teaching Team ID  \n",
       "0                   NaN                  NaN               NaN  \n",
       "\n",
       "[1 rows x 45 columns]"
      ]
     },
     "execution_count": 3,
     "metadata": {},
     "output_type": "execute_result"
    }
   ],
   "source": [
    "prof_data = pd.read_csv(\"Professors.csv\")\n",
    "student_data = pd.read_csv(\"Students_TA.csv\")\n",
    "\n",
    "student_data[student_data[\"Full Name\"] == \"Alisa Lynch\"]"
   ]
  },
  {
   "cell_type": "code",
   "execution_count": 7,
   "metadata": {},
   "outputs": [
    {
     "name": "stderr",
     "output_type": "stream",
     "text": [
      "C:\\Users\\iamrk\\Anaconda3\\lib\\site-packages\\ipykernel_launcher.py:2: SettingWithCopyWarning: \n",
      "A value is trying to be set on a copy of a slice from a DataFrame\n",
      "\n",
      "See the caveats in the documentation: http://pandas.pydata.org/pandas-docs/stable/user_guide/indexing.html#returning-a-view-versus-a-copy\n",
      "  \n"
     ]
    }
   ],
   "source": [
    "for i in range(len(prof_data[\"Password\"])):\n",
    "    prof_data[\"Password\"][i] = bcrypt.hashpw(prof_data[\"Password\"][i].encode('utf8'), bcrypt.gensalt())\n",
    "    \n",
    "    "
   ]
  },
  {
   "cell_type": "code",
   "execution_count": null,
   "metadata": {},
   "outputs": [
    {
     "name": "stderr",
     "output_type": "stream",
     "text": [
      "C:\\Users\\iamrk\\Anaconda3\\lib\\site-packages\\ipykernel_launcher.py:2: SettingWithCopyWarning: \n",
      "A value is trying to be set on a copy of a slice from a DataFrame\n",
      "\n",
      "See the caveats in the documentation: http://pandas.pydata.org/pandas-docs/stable/user_guide/indexing.html#returning-a-view-versus-a-copy\n",
      "  \n"
     ]
    }
   ],
   "source": [
    "for i in range(len(student_data[\"Password\"])):\n",
    "    student_data[\"Password\"][i] = bcrypt.hashpw(student_data[\"Password\"][i].encode('utf8'), bcrypt.gensalt())"
   ]
  }
 ],
 "metadata": {
  "kernelspec": {
   "display_name": "Python 3",
   "language": "python",
   "name": "python3"
  },
  "language_info": {
   "codemirror_mode": {
    "name": "ipython",
    "version": 3
   },
   "file_extension": ".py",
   "mimetype": "text/x-python",
   "name": "python",
   "nbconvert_exporter": "python",
   "pygments_lexer": "ipython3",
   "version": "3.7.4"
  }
 },
 "nbformat": 4,
 "nbformat_minor": 2
}
